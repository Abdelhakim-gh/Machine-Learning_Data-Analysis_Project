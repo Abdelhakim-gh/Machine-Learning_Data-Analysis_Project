{
 "cells": [
  {
   "cell_type": "markdown",
   "metadata": {},
   "source": [
    "### Machine Learning Application for Handwritten Digit Recognition"
   ]
  },
  {
   "cell_type": "markdown",
   "metadata": {},
   "source": [
    "---\n",
    "\n",
    "**Problem Description: Recognizing Handwritten Numbers**\n",
    "\n",
    "**Overview:**\n",
    "The task involves recognizing handwritten numbers (digits) using machine learning algorithms. Handwritten digits vary significantly in terms of writing style, size, and orientation. \n",
    "\n",
    "<div style=\"text-align: center;\">\n",
    "    <img src=\"data_files/nombres manuscrits.png\">\n",
    "</div>\n",
    "\n",
    "-  the image is illustrating how numbers are written as an example for how a machine learning model could recognize them based on their shapes\n",
    "\n",
    "**Objective:**\n",
    "The objective is to develop a machine learning model capable of accurately identifying handwritten digits. This model should be trained on a dataset different representation of number in form of images grid, Once trained, the model should be able to predict the digit in unseen images with high accuracy.\n",
    "\n",
    "**Dataset:**\n",
    "The dataset consists of grayscale images of handwritten digits, each represented as a matrix of pixel values. Additionally, each image is associated with a label indicating the digit it represents (e.g., 0 to 9).\n",
    "\n",
    "---\n",
    "This code illustrates the process of creating, training, evaluating, and predicting with a decision tree classification model on a dataset of grayscale images of digits. \n",
    "\n",
    "- **Creation**: In this step, you initialize a decision tree classifier model. This involves setting parameters such as the maximum depth of the tree, criteria for splitting nodes, etc.\n",
    "\n",
    "- **Training**: The model is then trained using a dataset of grayscale images of digits. During training, the model learns from the features (pixel values) of the images and their corresponding labels (the digit they represent).\n",
    "\n",
    "- **Evaluation**: After training, the model's performance is evaluated using a separate set of images that it hasn't seen before. This evaluation measures how well the model generalizes to new, unseen data.\n",
    "\n",
    "- **Prediction**: Once the model is trained and evaluated, it can be used to make predictions on new grayscale images of digits. Given an unseen image, the model predicts the digit it represents based on its learned patterns from the training data.\n",
    "\n",
    "---"
   ]
  },
  {
   "cell_type": "code",
   "execution_count": 32,
   "metadata": {},
   "outputs": [],
   "source": [
    "import numpy as np  # Import NumPy library for numerical operations\n",
    "import matplotlib.pyplot as plt  # Import Matplotlib library for data visualization\n",
    "import pandas as pd  # Import Pandas library for data manipulation and analysis\n",
    "from sklearn.tree import DecisionTreeClassifier  # Import DecisionTreeClassifier from scikit-learn for building decision tree models\n",
    "from sklearn.model_selection import train_test_split  # Import train_test_split function for splitting dataset into training and testing sets\n",
    "from copy import deepcopy  # Import deepcopy function from copy module for creating deep copies of objects"
   ]
  },
  {
   "cell_type": "code",
   "execution_count": 33,
   "metadata": {},
   "outputs": [],
   "source": [
    "# Load data from a CSV file | 'as_matrix()' has been deprecated, using 'values' instead\n",
    "data = pd.read_csv(\"data_files\\\\images_chiffres_codees_niveau_de_gris.csv\").values # dataset contains 2559 rows"
   ]
  },
  {
   "cell_type": "code",
   "execution_count": 34,
   "metadata": {},
   "outputs": [
    {
     "data": {
      "text/html": [
       "<style>#sk-container-id-5 {color: black;}#sk-container-id-5 pre{padding: 0;}#sk-container-id-5 div.sk-toggleable {background-color: white;}#sk-container-id-5 label.sk-toggleable__label {cursor: pointer;display: block;width: 100%;margin-bottom: 0;padding: 0.3em;box-sizing: border-box;text-align: center;}#sk-container-id-5 label.sk-toggleable__label-arrow:before {content: \"▸\";float: left;margin-right: 0.25em;color: #696969;}#sk-container-id-5 label.sk-toggleable__label-arrow:hover:before {color: black;}#sk-container-id-5 div.sk-estimator:hover label.sk-toggleable__label-arrow:before {color: black;}#sk-container-id-5 div.sk-toggleable__content {max-height: 0;max-width: 0;overflow: hidden;text-align: left;background-color: #f0f8ff;}#sk-container-id-5 div.sk-toggleable__content pre {margin: 0.2em;color: black;border-radius: 0.25em;background-color: #f0f8ff;}#sk-container-id-5 input.sk-toggleable__control:checked~div.sk-toggleable__content {max-height: 200px;max-width: 100%;overflow: auto;}#sk-container-id-5 input.sk-toggleable__control:checked~label.sk-toggleable__label-arrow:before {content: \"▾\";}#sk-container-id-5 div.sk-estimator input.sk-toggleable__control:checked~label.sk-toggleable__label {background-color: #d4ebff;}#sk-container-id-5 div.sk-label input.sk-toggleable__control:checked~label.sk-toggleable__label {background-color: #d4ebff;}#sk-container-id-5 input.sk-hidden--visually {border: 0;clip: rect(1px 1px 1px 1px);clip: rect(1px, 1px, 1px, 1px);height: 1px;margin: -1px;overflow: hidden;padding: 0;position: absolute;width: 1px;}#sk-container-id-5 div.sk-estimator {font-family: monospace;background-color: #f0f8ff;border: 1px dotted black;border-radius: 0.25em;box-sizing: border-box;margin-bottom: 0.5em;}#sk-container-id-5 div.sk-estimator:hover {background-color: #d4ebff;}#sk-container-id-5 div.sk-parallel-item::after {content: \"\";width: 100%;border-bottom: 1px solid gray;flex-grow: 1;}#sk-container-id-5 div.sk-label:hover label.sk-toggleable__label {background-color: #d4ebff;}#sk-container-id-5 div.sk-serial::before {content: \"\";position: absolute;border-left: 1px solid gray;box-sizing: border-box;top: 0;bottom: 0;left: 50%;z-index: 0;}#sk-container-id-5 div.sk-serial {display: flex;flex-direction: column;align-items: center;background-color: white;padding-right: 0.2em;padding-left: 0.2em;position: relative;}#sk-container-id-5 div.sk-item {position: relative;z-index: 1;}#sk-container-id-5 div.sk-parallel {display: flex;align-items: stretch;justify-content: center;background-color: white;position: relative;}#sk-container-id-5 div.sk-item::before, #sk-container-id-5 div.sk-parallel-item::before {content: \"\";position: absolute;border-left: 1px solid gray;box-sizing: border-box;top: 0;bottom: 0;left: 50%;z-index: -1;}#sk-container-id-5 div.sk-parallel-item {display: flex;flex-direction: column;z-index: 1;position: relative;background-color: white;}#sk-container-id-5 div.sk-parallel-item:first-child::after {align-self: flex-end;width: 50%;}#sk-container-id-5 div.sk-parallel-item:last-child::after {align-self: flex-start;width: 50%;}#sk-container-id-5 div.sk-parallel-item:only-child::after {width: 0;}#sk-container-id-5 div.sk-dashed-wrapped {border: 1px dashed gray;margin: 0 0.4em 0.5em 0.4em;box-sizing: border-box;padding-bottom: 0.4em;background-color: white;}#sk-container-id-5 div.sk-label label {font-family: monospace;font-weight: bold;display: inline-block;line-height: 1.2em;}#sk-container-id-5 div.sk-label-container {text-align: center;}#sk-container-id-5 div.sk-container {/* jupyter's `normalize.less` sets `[hidden] { display: none; }` but bootstrap.min.css set `[hidden] { display: none !important; }` so we also need the `!important` here to be able to override the default hidden behavior on the sphinx rendered scikit-learn.org. See: https://github.com/scikit-learn/scikit-learn/issues/21755 */display: inline-block !important;position: relative;}#sk-container-id-5 div.sk-text-repr-fallback {display: none;}</style><div id=\"sk-container-id-5\" class=\"sk-top-container\"><div class=\"sk-text-repr-fallback\"><pre>DecisionTreeClassifier()</pre><b>In a Jupyter environment, please rerun this cell to show the HTML representation or trust the notebook. <br />On GitHub, the HTML representation is unable to render, please try loading this page with nbviewer.org.</b></div><div class=\"sk-container\" hidden><div class=\"sk-item\"><div class=\"sk-estimator sk-toggleable\"><input class=\"sk-toggleable__control sk-hidden--visually\" id=\"sk-estimator-id-5\" type=\"checkbox\" checked><label for=\"sk-estimator-id-5\" class=\"sk-toggleable__label sk-toggleable__label-arrow\">DecisionTreeClassifier</label><div class=\"sk-toggleable__content\"><pre>DecisionTreeClassifier()</pre></div></div></div></div></div>"
      ],
      "text/plain": [
       "DecisionTreeClassifier()"
      ]
     },
     "execution_count": 34,
     "metadata": {},
     "output_type": "execute_result"
    }
   ],
   "source": [
    "# Create an instance of the decision tree classifier\n",
    "MyModel = DecisionTreeClassifier()\n",
    "\n",
    "# Separate the dataset into training and testing sets\n",
    "x = data[:, 1:]  \n",
    "label = data[:, 0]  \n",
    "x_train, x_test, y_train, y_test = train_test_split(x, label, test_size=0.2)\n",
    "\n",
    "# Train the model using the training set\n",
    "MyModel.fit(x_train, y_train)"
   ]
  },
  {
   "cell_type": "code",
   "execution_count": 35,
   "metadata": {},
   "outputs": [
    {
     "name": "stdout",
     "output_type": "stream",
     "text": [
      "Accuracy = 71.6796875%\n"
     ]
    }
   ],
   "source": [
    "# Evaluate the model's accuracy on the test set\n",
    "predictions = MyModel.predict(x_test)  # Generate predictions for the test set using the trained model\n",
    "accuracy = MyModel.score(x_test, y_test)  # Calculate the accuracy of the model on the test set\n",
    "print(\"Accuracy = \" + str(accuracy * 100) + '%')  # Print the accuracy of the model on the test set"
   ]
  },
  {
   "cell_type": "code",
   "execution_count": 36,
   "metadata": {},
   "outputs": [
    {
     "data": {
      "image/png": "[encoded data removed]",
      "text/plain": [
       "<Figure size 640x480 with 1 Axes>"
      ]
     },
     "metadata": {},
     "output_type": "display_data"
    }
   ],
   "source": [
    "# Display an image from the test set\n",
    "image_index = 53  # Index of the image to be displayed from the test set\n",
    "image = x_test[image_index]  # Retrieve the image data from the test set\n",
    "image_copy = deepcopy(image)  # Create a deep copy of the image data\n",
    "image_copy.shape = (28, 28)  # Reshape the image data into a 28x28 matrix \n",
    "plt.imshow(255 - image_copy, cmap='gray')  # Display the image with inverted colors in grayscale\n",
    "plt.show()  # Show the displayed image"
   ]
  },
  {
   "cell_type": "code",
   "execution_count": 37,
   "metadata": {},
   "outputs": [],
   "source": [
    "# Add noise to an image and predict with the model\n",
    "num_noisy_pixels = 100  # Number of noisy pixels to add to the image\n",
    "for i in range(num_noisy_pixels):\n",
    "    position = np.random.randint(0, 784, 1)[0]  # Randomly select a position (pixel) in the image\n",
    "    noise = np.random.randint(-200, 200, 1)[0]  # Generate random noise value between -200 and 200\n",
    "    image[position] += noise  # Add the noise to the selected pixel in the image\n",
    "    image[position] = image[position] % 255  # Ensure the pixel value remains within the range of grayscale values (0 to 255)"
   ]
  },
  {
   "cell_type": "code",
   "execution_count": 38,
   "metadata": {},
   "outputs": [
    {
     "name": "stdout",
     "output_type": "stream",
     "text": [
      "The predicted number: [7]\n"
     ]
    },
    {
     "data": {
      "image/png": "[encoded data removed]",
      "text/plain": [
       "<Figure size 640x480 with 1 Axes>"
      ]
     },
     "metadata": {},
     "output_type": "display_data"
    }
   ],
   "source": [
    "# Predict with the model for the noisy image\n",
    "print(f\"The predicted number: {MyModel.predict([image])}\")  # Print the predicted number by the model for the noisy image\n",
    "image.shape = (28, 28)  # Reshape the image back to its original dimensions (28x28)\n",
    "plt.imshow(255 - image, cmap='gray')  # Display the noisy image with inverted colors in grayscale\n",
    "plt.show()  # Show the displayed noisy image"
   ]
  }
 ],
 "metadata": {
  "kernelspec": {
   "display_name": "Python 3 (ipykernel)",
   "language": "python",
   "name": "python3"
  },
  "language_info": {
   "codemirror_mode": {
    "name": "ipython",
    "version": 3
   },
   "file_extension": ".py",
   "mimetype": "text/x-python",
   "name": "python",
   "nbconvert_exporter": "python",
   "pygments_lexer": "ipython3",
   "version": "3.11.5"
  }
 },
 "nbformat": 4,
 "nbformat_minor": 4
}
